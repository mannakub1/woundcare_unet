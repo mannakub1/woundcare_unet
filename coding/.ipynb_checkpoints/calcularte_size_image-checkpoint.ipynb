{
 "cells": [
  {
   "cell_type": "code",
   "execution_count": 63,
   "metadata": {},
   "outputs": [],
   "source": [
    "import os\n",
    "from os import walk\n",
    "import numpy as np\n",
    "import cv2\n",
    "import statistics"
   ]
  },
  {
   "cell_type": "code",
   "execution_count": 23,
   "metadata": {},
   "outputs": [
    {
     "name": "stdout",
     "output_type": "stream",
     "text": [
      "number of file => 166\n"
     ]
    }
   ],
   "source": [
    "src = \"../training_data/image_original/\"\n",
    "files = []\n",
    "for (dirpath, dirnames, filename) in walk(src):\n",
    "    files.extend(filename)\n",
    "num_files = len(files) \n",
    "print(\"number of file => \" + str(num_files))"
   ]
  },
  {
   "cell_type": "code",
   "execution_count": 37,
   "metadata": {},
   "outputs": [],
   "source": [
    "shapes = []\n",
    "def get_image_RGB(name):\n",
    "    img_rgb = cv2.imread(name)\n",
    "    b, g, r = cv2.split(img_rgb)\n",
    "    return cv2.merge([r, g, b])\n",
    "\n",
    "for file in files:\n",
    "    file_img = src + file\n",
    "    img = get_image_RGB(file_img)\n",
    "    shapes.append((img.shape[0], img.shape[1]))"
   ]
  },
  {
   "cell_type": "code",
   "execution_count": 81,
   "metadata": {},
   "outputs": [],
   "source": [
    "heights, widths = [], []\n",
    "\n",
    "for (height, width) in shapes :\n",
    "    heights.append(height)\n",
    "    widths.append(width)\n",
    "# print(heights)\n",
    "# print(widths)"
   ]
  },
  {
   "cell_type": "code",
   "execution_count": 80,
   "metadata": {},
   "outputs": [],
   "source": [
    "def average(list):\n",
    "    return sum(list)/len(list)\n",
    "def stdev(list):\n",
    "    return statistics.stdev(list)\n",
    "def median(list):\n",
    "    return statistics.median(list)"
   ]
  },
  {
   "cell_type": "code",
   "execution_count": 82,
   "metadata": {},
   "outputs": [
    {
     "ename": "IndentationError",
     "evalue": "unexpected indent (<ipython-input-82-45351a1aad91>, line 3)",
     "output_type": "error",
     "traceback": [
      "\u001b[0;36m  File \u001b[0;32m\"<ipython-input-82-45351a1aad91>\"\u001b[0;36m, line \u001b[0;32m3\u001b[0m\n\u001b[0;31m    .format(max(list), min(list), average(list), stdev(list), median(list))\u001b[0m\n\u001b[0m    ^\u001b[0m\n\u001b[0;31mIndentationError\u001b[0m\u001b[0;31m:\u001b[0m unexpected indent\n"
     ]
    }
   ],
   "source": [
    "def printInfo(list):\n",
    "    return \"max => {:d}, min => {:d}, average => {:.2f}, sd => {:.2f}, median => {:.2f}\".format(max(list), min(list), average(list), stdev(list), median(list))\n"
   ]
  },
  {
   "cell_type": "code",
   "execution_count": 79,
   "metadata": {},
   "outputs": [
    {
     "name": "stdout",
     "output_type": "stream",
     "text": [
      "height : max => 560, min => 347, average => 408.52, sd => 41.18, median => 401.00\n",
      "height : None\n",
      "height : max => 560, min => 358, average => 553.96, sd => 31.44, median => 560.00\n",
      "width : None\n"
     ]
    }
   ],
   "source": [
    "print(\"height : \" + str(printInfo(heights)))\n",
    "print(\"width : \" + str(printInfo(widths)))"
   ]
  },
  {
   "cell_type": "code",
   "execution_count": null,
   "metadata": {},
   "outputs": [],
   "source": []
  }
 ],
 "metadata": {
  "kernelspec": {
   "display_name": "Python 3",
   "language": "python",
   "name": "python3"
  },
  "language_info": {
   "codemirror_mode": {
    "name": "ipython",
    "version": 3
   },
   "file_extension": ".py",
   "mimetype": "text/x-python",
   "name": "python",
   "nbconvert_exporter": "python",
   "pygments_lexer": "ipython3",
   "version": "3.6.2"
  }
 },
 "nbformat": 4,
 "nbformat_minor": 2
}
