{
 "cells": [
  {
   "cell_type": "code",
   "execution_count": 1,
   "metadata": {},
   "outputs": [],
   "source": [
    "import os\n",
    "from os import walk\n",
    "import shutil\n",
    "\n",
    "import cv2\n",
    "\n",
    "import numpy as np\n",
    "from matplotlib import pyplot as plt"
   ]
  },
  {
   "cell_type": "markdown",
   "metadata": {},
   "source": [
    "size of new image."
   ]
  },
  {
   "cell_type": "code",
   "execution_count": 2,
   "metadata": {},
   "outputs": [],
   "source": [
    "height = 256\n",
    "width = 256"
   ]
  },
  {
   "cell_type": "markdown",
   "metadata": {},
   "source": [
    "function create a white image"
   ]
  },
  {
   "cell_type": "code",
   "execution_count": 3,
   "metadata": {},
   "outputs": [],
   "source": [
    "def create_white_image():\n",
    "    img = np.zeros(shape = (height,width,3) ,dtype = np.uint8)\n",
    "    img.fill(255)\n",
    "    return img\n",
    "\n",
    "def create_black_image():\n",
    "    img = np.zeros(shape = (height,width,3) ,dtype = np.uint8)\n",
    "    img.fill(0)\n",
    "    return img"
   ]
  },
  {
   "cell_type": "code",
   "execution_count": 4,
   "metadata": {},
   "outputs": [],
   "source": [
    "def show_rgb_image(img, title=None):\n",
    "    plt.imshow(img)\n",
    "    plt.title(title)\n",
    "    plt.show()\n",
    "    \n",
    "def show_gray_image(img, title=None):\n",
    "    plt.imshow(img, 'gray')\n",
    "    plt.title(title)\n",
    "    plt.show()"
   ]
  },
  {
   "cell_type": "code",
   "execution_count": 5,
   "metadata": {},
   "outputs": [],
   "source": [
    "img = create_white_image()\n",
    "# show_rgb_image(img,\"new white image\")"
   ]
  },
  {
   "cell_type": "code",
   "execution_count": 6,
   "metadata": {},
   "outputs": [],
   "source": [
    "def check_folder_exist(src_folder) :\n",
    "    return os.path.exists(src_folder)\n",
    "\n",
    "def create_folder(src_folder) :\n",
    "    folders = src_folder.split(\"/\")\n",
    "    current_folder = \"\"\n",
    "    \n",
    "    for folder in folders :\n",
    "        current_folder += folder + \"/\"\n",
    "        if not (folder == '' or folder == '.' or folder == '..') and not (check_folder_exist(current_folder)):\n",
    "            os.mkdir(current_folder)\n",
    "            \n",
    "    \n",
    "def get_image(src_folder):\n",
    "    images = []\n",
    "    for (dirpath, dirnames, filenames) in walk(src_folder):\n",
    "        images.extend(filenames)\n",
    "        \n",
    "    return images"
   ]
  },
  {
   "cell_type": "code",
   "execution_count": 7,
   "metadata": {},
   "outputs": [],
   "source": [
    "def copy_image_to_folder(image,  src_folder, dst_folder):\n",
    "    shutil.copy(src_folder + image, dst_folder + image)\n",
    "\n",
    "def copy_image_to_u_net(src_folder, dst_folder) :\n",
    "    create_folder(dst_folder)\n",
    "    \n",
    "    for image in get_image(src_folder):\n",
    "        copy_image_to_folder(image, src_folder, dst_folder)\n"
   ]
  },
  {
   "cell_type": "code",
   "execution_count": 8,
   "metadata": {},
   "outputs": [],
   "source": [
    "def resize_image(image, src_folder, img, bg_image) :\n",
    "    res_image = cv2.resize(img,None,fx=0.4, fy=0.4, interpolation = cv2.INTER_CUBIC)\n",
    "    rows, cols, channel = res_image.shape\n",
    "    \n",
    "    for row in range(rows):\n",
    "        for col in range(cols):\n",
    "            bg_image[row,col] = res_image[row, col]\n",
    "    \n",
    "    return bg_image\n",
    "\n",
    "def resize_image_rgb(image, src_folder):\n",
    "    img = cv2.imread(src_folder + image)\n",
    "    bg_image = create_white_image()\n",
    "    \n",
    "    cv2.imwrite(src_folder + image[:-4] + \".png\", resize_image(image, src_folder, img, bg_image))\n",
    "    \n",
    "def resize_image_gray(image, src_folder):\n",
    "    img = cv2.imread(src_folder + image)\n",
    "    bg_image = create_black_image()\n",
    " \n",
    "    cv2.imwrite(src_folder + image[:-8] + \"gray.png\", resize_image(image, src_folder, img, bg_image))"
   ]
  },
  {
   "cell_type": "markdown",
   "metadata": {},
   "source": [
    "copy image train original (180 imgaes) to Unet"
   ]
  },
  {
   "cell_type": "code",
   "execution_count": 30,
   "metadata": {},
   "outputs": [],
   "source": [
    "src_folders = [\"../../training_data/image/original/k-1/train/\", \"../../training_data/image/original/k-1/test/\"]\n",
    "dst_folder = \"../training_data/images/original/\"\n",
    "\n",
    "for src_folder in src_folders :\n",
    "    copy_image_to_u_net(src_folder, dst_folder)\n",
    "    \n",
    "src_folder = \"../training_data/images/original/\"\n",
    "\n",
    "for image in get_image(src_folder):\n",
    "    resize_image_rgb(image, src_folder)"
   ]
  },
  {
   "cell_type": "markdown",
   "metadata": {},
   "source": [
    "copy image train gray original (180 imgaes) to Unet"
   ]
  },
  {
   "cell_type": "code",
   "execution_count": 32,
   "metadata": {},
   "outputs": [],
   "source": [
    "src_folders = [\"../../training_data/image/gray/\"]\n",
    "dst_folder = \"../training_data/images/gray/\"\n",
    "\n",
    "for src_folder in src_folders :\n",
    "    copy_image_to_u_net(src_folder, dst_folder)\n",
    "    \n",
    "src_folder = \"../training_data/images/gray/\"\n",
    "\n",
    "for image in get_image(src_folder):\n",
    "    resize_image_gray(image, src_folder)"
   ]
  },
  {
   "cell_type": "markdown",
   "metadata": {},
   "source": [
    "copy image train original augmentation (540 imgaes) to Unet"
   ]
  },
  {
   "cell_type": "code",
   "execution_count": 31,
   "metadata": {},
   "outputs": [],
   "source": [
    "src_folders = [\"../../training_data/image/augmen_motoC_to_s8_and_s8_to_iPad/original/k-1/train/\", \"../../training_data/image/augmen_motoC_to_s8_and_s8_to_iPad/original/k-1/test/\"]\n",
    "dst_folder = \"../training_data/images/original_augment/\"\n",
    "\n",
    "for src_folder in src_folders :\n",
    "    copy_image_to_u_net(src_folder, dst_folder)\n",
    "    \n",
    "src_folder = \"../training_data/images/original_augment/\"\n",
    "\n",
    "for image in get_image(src_folder):\n",
    "    resize_image_rgb(image, src_folder)"
   ]
  },
  {
   "cell_type": "code",
   "execution_count": null,
   "metadata": {},
   "outputs": [],
   "source": []
  },
  {
   "cell_type": "markdown",
   "metadata": {},
   "source": [
    "copy image test origial to Unet"
   ]
  },
  {
   "cell_type": "code",
   "execution_count": 29,
   "metadata": {},
   "outputs": [],
   "source": [
    "src_folders = [\"../../testing_data/original/image_color/\"]\n",
    "dst_folder = \"../testing_data/images/original/\"\n",
    "\n",
    "for src_folder in src_folders :\n",
    "    copy_image_to_u_net(src_folder, dst_folder)\n",
    "    \n",
    "src_folder = \"../testing_data/images/original/\"\n",
    "\n",
    "for image in get_image(src_folder):\n",
    "    resize_image_rgb(image, src_folder)"
   ]
  },
  {
   "cell_type": "code",
   "execution_count": 10,
   "metadata": {},
   "outputs": [],
   "source": [
    "src_folders = [\"../../testing_data/original/image_gray/\"]\n",
    "dst_folder = \"../testing_data/images/gray/\"\n",
    "\n",
    "for src_folder in src_folders :\n",
    "    copy_image_to_u_net(src_folder, dst_folder)\n",
    "    \n",
    "src_folder = \"../testing_data/images/gray/\"\n",
    "\n",
    "for image in get_image(src_folder):\n",
    "    resize_image_gray(image, src_folder)"
   ]
  },
  {
   "cell_type": "markdown",
   "metadata": {},
   "source": [
    "copy image test origial augment to Unet"
   ]
  },
  {
   "cell_type": "code",
   "execution_count": 21,
   "metadata": {},
   "outputs": [],
   "source": [
    "src_folders = [\"../../testing_data/original/image_color/\", \"../../testing_data/testing_image_motoC_to_S8/original/original_color/\", \"../../testing_data/testing_image_s8_to_iPad/original/original_color/\"]\n",
    "dst_folder = \"../testing_data/images/original_augment/\"\n",
    "\n",
    "for src_folder in src_folders :\n",
    "    copy_image_to_u_net(src_folder, dst_folder)\n",
    "    \n",
    "src_folder = \"../testing_data/images/original_augment/\"\n",
    "\n",
    "for image in get_image(src_folder):\n",
    "    resize_image_rgb(image, src_folder)"
   ]
  },
  {
   "cell_type": "code",
   "execution_count": 11,
   "metadata": {},
   "outputs": [],
   "source": [
    "src_folders = [\"../../testing_data/original/image_gray/\", \"../../testing_data/testing_image_motoC_to_S8/original/original_gray/\", \"../../testing_data/testing_image_s8_to_iPad/original/original_gray/\"]\n",
    "dst_folder = \"../testing_data/images/gray/\"\n",
    "\n",
    "for src_folder in src_folders :\n",
    "    copy_image_to_u_net(src_folder, dst_folder)\n",
    "    \n",
    "src_folder = \"../testing_data/images/gray/\"\n",
    "\n",
    "for image in get_image(src_folder):\n",
    "    resize_image_gray(image, src_folder)"
   ]
  },
  {
   "cell_type": "code",
   "execution_count": 9,
   "metadata": {},
   "outputs": [],
   "source": [
    "height = 30\n",
    "width = 30"
   ]
  },
  {
   "cell_type": "code",
   "execution_count": 25,
   "metadata": {},
   "outputs": [],
   "source": [
    "img = cv2.imread(\"../../testing_data/original/image_gray/v2_07.png\")\n",
    "# res_image = cv2.resize(img,None,fx=0.4, fy=0.4, interpolation = cv2.INTER_CUBIC)"
   ]
  },
  {
   "cell_type": "code",
   "execution_count": 26,
   "metadata": {},
   "outputs": [],
   "source": [
    "bg_image = create_black_image()"
   ]
  },
  {
   "cell_type": "code",
   "execution_count": 27,
   "metadata": {},
   "outputs": [],
   "source": [
    "rows, cols, channel = res_image.shape\n",
    "\n",
    "for row in range(rows):\n",
    "    for col in range(cols):\n",
    "        bg_image[row,col] = res_image[row, col]"
   ]
  },
  {
   "cell_type": "code",
   "execution_count": 28,
   "metadata": {},
   "outputs": [
    {
     "data": {
      "image/png": "[encoded data removed]",
      "text/plain": [
       "<Figure size 432x288 with 1 Axes>"
      ]
     },
     "metadata": {},
     "output_type": "display_data"
    }
   ],
   "source": [
    "plt.imshow(bg_image, 'gray')\n",
    "plt.show()"
   ]
  },
  {
   "cell_type": "code",
   "execution_count": 29,
   "metadata": {},
   "outputs": [
    {
     "data": {
      "text/plain": [
       "True"
      ]
     },
     "execution_count": 29,
     "metadata": {},
     "output_type": "execute_result"
    }
   ],
   "source": [
    "cv2.imwrite(\"../testing_data/images/gray/v2_07_gray.png\",bg_image)"
   ]
  },
  {
   "cell_type": "code",
   "execution_count": null,
   "metadata": {},
   "outputs": [],
   "source": []
  }
 ],
 "metadata": {
  "kernelspec": {
   "display_name": "Python 3",
   "language": "python",
   "name": "python3"
  },
  "language_info": {
   "codemirror_mode": {
    "name": "ipython",
    "version": 3
   },
   "file_extension": ".py",
   "mimetype": "text/x-python",
   "name": "python",
   "nbconvert_exporter": "python",
   "pygments_lexer": "ipython3",
   "version": "3.6.5"
  }
 },
 "nbformat": 4,
 "nbformat_minor": 2
}
