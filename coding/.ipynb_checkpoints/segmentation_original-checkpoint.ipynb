{
 "cells": [
  {
   "cell_type": "code",
   "execution_count": null,
   "metadata": {},
   "outputs": [],
   "source": [
    "%matplotlib inline\n",
    "\n",
    "import matplotlib\n",
    "import numpy as np\n",
    "import matplotlib.pyplot as plt\n",
    "\n",
    "\n",
    "# matplotlib.use('Agg')\n",
    "import os\n",
    "from os import walk\n",
    "import cv2\n",
    "\n",
    "\n",
    "\n",
    "from datetime import datetime\n",
    "from pytz import timezone\n",
    "\n",
    "\n",
    "import cntk.tests.test_utils\n",
    "import cntk as C\n",
    "from cntk.layers import Convolution, MaxPooling, Dense\n",
    "from cntk.initializer import glorot_uniform\n",
    "from cntk.ops import relu, sigmoid, input_variable\n",
    "from cntk.learners import learning_rate_schedule, UnitType\n",
    "from cntk.device import try_set_default_device, gpu, all_devices\n",
    "from cntk.ops.functions import load_model\n",
    "global result_path \n",
    "global report_root \n",
    "global report_img_path \n",
    "global img_predict_dir_path\n",
    "global img_blending_dir_path \n",
    "global img_test_dir_path \n"
   ]
  },
  {
   "cell_type": "code",
   "execution_count": null,
   "metadata": {},
   "outputs": [],
   "source": [
    "def get_window( img, y, x, size = 31 ):\n",
    "    temp = (size - 1) // 2\n",
    "    x1 = x - temp\n",
    "    x2 = x + 1 + temp\n",
    "    y1 = y - temp\n",
    "    y2 = y + 1 + temp\n",
    "    window = img[ y1:y2, x1:x2, :]\n",
    "    return window"
   ]
  },
  {
   "cell_type": "code",
   "execution_count": null,
   "metadata": {},
   "outputs": [],
   "source": [
    "def read_color_img(path):\n",
    "    bgr = cv2.imread( path, cv2.IMREAD_COLOR )\n",
    "    b, g, r = cv2.split( bgr )\n",
    "    img = cv2.merge( [r, g, b] )\n",
    "    return img"
   ]
  },
  {
   "cell_type": "code",
   "execution_count": null,
   "metadata": {},
   "outputs": [],
   "source": [
    "def to_bgr(rgb):\n",
    "    r, g, b = cv2.split( rgb )\n",
    "    bgr = cv2.merge( [b, g, r] )\n",
    "    return bgr"
   ]
  },
  {
   "cell_type": "code",
   "execution_count": null,
   "metadata": {},
   "outputs": [],
   "source": [
    "def read_gray_img(path):\n",
    "    img = cv2.imread( path, cv2.IMREAD_GRAYSCALE)\n",
    "    return img"
   ]
  },
  {
   "cell_type": "code",
   "execution_count": null,
   "metadata": {},
   "outputs": [],
   "source": [
    "def get_largest_component (image):\n",
    "    nb_components, output, stats, centroids = cv2.connectedComponentsWithStats(image, connectivity=8)\n",
    "    sizes = stats[:, -1]\n",
    "    max_label = 1\n",
    "    if len(sizes) >= 2:\n",
    "        max_size = sizes[1]\n",
    "    else :\n",
    "        max_size = sizes[0]\n",
    "    for i in range(2, nb_components):\n",
    "        if sizes[i] > max_size:\n",
    "            max_label = i\n",
    "            max_size = sizes[i]\n",
    "    img2 = np.zeros(output.shape)\n",
    "    img2[output == max_label] = 255\n",
    "    return img2"
   ]
  },
  {
   "cell_type": "code",
   "execution_count": null,
   "metadata": {},
   "outputs": [],
   "source": [
    "def union( img1, img2):\n",
    "    h, w = img1.shape\n",
    "    img = np.zeros( shape = (h,w)  , dtype = np.uint8)\n",
    "    for row in range(h):\n",
    "        for col in range(w):\n",
    "            v1 = img1[row, col]\n",
    "            v2 = img2[row, col]\n",
    "            if v1 == 255 or v2 == 255:\n",
    "                img[row, col] = 255\n",
    "    return img"
   ]
  },
  {
   "cell_type": "code",
   "execution_count": null,
   "metadata": {},
   "outputs": [],
   "source": [
    "def intersection( img1, img2):\n",
    "    h, w = img1.shape\n",
    "    img = np.zeros( shape = (h,w)  , dtype = np.uint8)\n",
    "    for row in range(h):\n",
    "        for col in range(w):\n",
    "            v1 = img1[row, col]\n",
    "            v2 = img2[ row, col]\n",
    "            if v1 == 255 and v2 == 255:\n",
    "                img[row, col] = 255\n",
    "    return img"
   ]
  },
  {
   "cell_type": "code",
   "execution_count": null,
   "metadata": {},
   "outputs": [],
   "source": [
    "def get_IoU( img1, img2):\n",
    "    union_img = union(img1, img2)\n",
    "    intersection_img = intersection(img1, img2)\n",
    "    sum_union = 0\n",
    "    sum_intersection = 0\n",
    "    h, w = union_img.shape\n",
    "    for row in range(h):\n",
    "        for col in range(w):\n",
    "            v1 = union_img[row, col]\n",
    "            v2 = intersection_img[row, col]\n",
    "            if v1 == 255:\n",
    "                sum_union += 1\n",
    "            if v2 == 255:\n",
    "                sum_intersection += 1\n",
    "    return sum_intersection / sum_union"
   ]
  },
  {
   "cell_type": "code",
   "execution_count": null,
   "metadata": {},
   "outputs": [],
   "source": [
    "def show_img(img, title=None, mode=None):\n",
    "    plt.imshow(img, cmap=mode)\n",
    "    plt.title(title)\n",
    "    plt.show()"
   ]
  },
  {
   "cell_type": "code",
   "execution_count": null,
   "metadata": {},
   "outputs": [],
   "source": [
    "def alpha_blending( fg, bg, alpha = 0.3 ):\n",
    "    new_img = np.array(bg)\n",
    "    rows, cols = fg.shape\n",
    "    for row in range(rows):\n",
    "        for col in range(cols):\n",
    "            if fg[row, col] == 255:                \n",
    "                value = ( (1-alpha) * 255 ) +  ( alpha * bg[row, col, 2] )\n",
    "                new_img[row, col, 2] = int(value)\n",
    "                new_img[row, col, 0] = bg[row, col, 0]\n",
    "                new_img[row, col, 1] = bg[row, col, 1]\n",
    "    return new_img"
   ]
  },
  {
   "cell_type": "code",
   "execution_count": null,
   "metadata": {},
   "outputs": [],
   "source": [
    "def predict( img_color, model, stride=2):\n",
    "    num_pixel = 0\n",
    "    height, width, chanel = img_color.shape\n",
    "    img_predict = np.zeros( shape = (height, width)  , dtype = np.uint8)\n",
    "    print(\"shape => {:d},{:d}\".format(height, width))\n",
    "    \n",
    "    white = np.asarray([255])\n",
    "    \n",
    "    for row in range(15, height - 15, stride):\n",
    "        data = list()\n",
    "        for col in range(15, width - 15, stride):\n",
    "            num_pixel += 1\n",
    "            w = get_window( img_color , row, col, 31 )\n",
    "            tmp_data = np.asarray(w, dtype=np.float32)\n",
    "            tmp_data = np.reshape( tmp_data, (3,31,31))\n",
    "            data.append(tmp_data)\n",
    "        \n",
    "        data_array = np.array(data)\n",
    "        predictions = model.eval(data_array)\n",
    "        \n",
    "        for index in range(len(data)):\n",
    "            col = 15 + (stride * index)\n",
    "            p = predictions[index]\n",
    "            top_class = np.argmax(p)\n",
    "            if top_class == 1:\n",
    "                img_predict[row, col] = white\n",
    "            elif top_class == 2 :\n",
    "                img_predict[row, col] = white\n",
    "    print(\"num pixel => {:d}\".format(num_pixel))\n",
    "    return img_predict"
   ]
  },
  {
   "cell_type": "code",
   "execution_count": null,
   "metadata": {},
   "outputs": [],
   "source": [
    "def segment( color_path, model,img_predict_dir_path ):\n",
    "    img_color = read_color_img( color_path )\n",
    "    img_predict = predict( img_color, model )\n",
    "    \n",
    "    cv2.imwrite('%s/%s_predict1.png' % ( img_predict_dir_path, get_name_img_color(color_path)), img_predict )\n",
    "    img_predict = cv2.dilate( img_predict, np.ones( (5,5) , np.uint8), iterations=1)\n",
    "    img_predict = cv2.erode( img_predict, np.ones( (5,5) , np.uint8), iterations=1)\n",
    "    img_predict = cv2.dilate( img_predict, np.ones( (3,3) , np.uint8), iterations=1)\n",
    "    \n",
    "    img_predict = get_largest_component(img_predict)\n",
    "    img_blending = alpha_blending( fg=img_predict, bg=img_color )\n",
    "    \n",
    "    return img_color, img_predict "
   ]
  },
  {
   "cell_type": "code",
   "execution_count": null,
   "metadata": {},
   "outputs": [],
   "source": [
    "def test_predict( img_predict, img_gray):\n",
    "    num_pixel_all = 0 \n",
    "    num_pixel_tp = 0\n",
    "    num_pixel_fp = 0\n",
    "    num_pixel_tn = 0 \n",
    "    num_pixel_fn = 0\n",
    "#     print(img_predict.shape)\n",
    "    height, width = img_predict.shape\n",
    "    test_img = np.zeros( shape = (height, width, 3)  , dtype = np.uint8)\n",
    "    for row in range(height):\n",
    "        for col in range(width):\n",
    "            num_pixel_all += 1\n",
    "            red = [ 255, 0, 0]\n",
    "            green = [ 0, 255, 0]\n",
    "            yellow = [ 255, 255, 0]\n",
    "            # wrong = red, right = green\n",
    "            if img_predict[row, col] and img_gray[row, col] == 255:\n",
    "                num_pixel_tp += 1\n",
    "                test_img[row, col] = green                \n",
    "            elif img_predict[row, col] == 255 and img_gray[row, col] == 0:\n",
    "                num_pixel_fp += 1\n",
    "                test_img[row, col] = yellow\n",
    "            elif img_predict[row, col] == 0 and img_gray[row, col] == 255:\n",
    "                num_pixel_tn += 1\n",
    "                test_img[row, col] = red\n",
    "            else :\n",
    "                num_pixel_fn += 1\n",
    "    return test_img, num_pixel_all, num_pixel_tp, num_pixel_fp, num_pixel_tn, num_pixel_fn"
   ]
  },
  {
   "cell_type": "code",
   "execution_count": null,
   "metadata": {},
   "outputs": [],
   "source": [
    "def get_name_img_color(path):\n",
    "    last_slash_index = path.rfind('/')\n",
    "    last_dot_index = path.rfind('.')\n",
    "    name = path[ last_slash_index + 1: last_dot_index]\n",
    "    return name"
   ]
  },
  {
   "cell_type": "code",
   "execution_count": null,
   "metadata": {},
   "outputs": [],
   "source": [
    "def get_name_img_gray(path):\n",
    "    last_slash_index = path.rfind('/')\n",
    "    last_under_index = path.rfind('_')\n",
    "    name = path[ last_slash_index + 1: last_under_index]\n",
    "    return name"
   ]
  },
  {
   "cell_type": "code",
   "execution_count": null,
   "metadata": {},
   "outputs": [],
   "source": [
    "def get_all_file_paths(root):\n",
    "    paths = list()\n",
    "    for _, _, files in os.walk(root):\n",
    "        for file in files:\n",
    "            paths.append( os.path.join( root, file ) )\n",
    "    paths.sort()\n",
    "    return paths"
   ]
  },
  {
   "cell_type": "code",
   "execution_count": null,
   "metadata": {},
   "outputs": [],
   "source": [
    "def process(color_path, gray_path,report_root,model,img_predict_dir_path,img_blending_dir_path,img_test_dir_path,report_img_path, gray_dir_path):\n",
    "    name = get_name_img_color(color_path)\n",
    "    \n",
    "    write_log('PREDICT... %s' % name,report_root)\n",
    "    \n",
    "    img_color, img_predict = predict_image(color_path, model, img_predict_dir_path)#predict_image(color_path, model)\n",
    "    img_gray = read_gray_img(gray_path)\n",
    "    \n",
    "    img_test, num_pixel_all, num_pixel_tp, num_pixel_fp, num_pixel_tn, num_pixel_fn = test_predict( img_predict, img_gray )\n",
    "    \n",
    "    img_alpha_blening = alpha_blending( img_predict, img_color )\n",
    "    \n",
    "    iou_value = get_IoU( img_gray, img_predict)\n",
    "    \n",
    "    write_log(' , IoU = %s' % iou_value,report_root )\n",
    "    \n",
    "    \n",
    "    cv2.imwrite('%s/%s_predict2.png' % ( img_predict_dir_path, name) , img_predict )\n",
    "    \n",
    "    cv2.imwrite('%s/%s_blending.png' % ( img_blending_dir_path, name) , to_bgr(img_alpha_blening ) )\n",
    "    \n",
    "    cv2.imwrite('%s/%s_compare.png' % ( img_test_dir_path, name) , to_bgr(img_test ) )\n",
    "    plt.close()\n",
    "    \n",
    "    plt.figure()\n",
    "    \n",
    "    plt.subplot(221)\n",
    "    plt.imshow(img_color)\n",
    "    plt.title(\"Original\")\n",
    "    plt.axis('off')\n",
    "    \n",
    "    plt.subplot(222)\n",
    "    plt.imshow(img_predict, cmap='gray')\n",
    "    plt.title(\"Predicted\")\n",
    "    plt.axis('off')\n",
    "    \n",
    "    plt.subplot(223)\n",
    "    plt.imshow(img_alpha_blening)\n",
    "    plt.title(\"Blending\")\n",
    "    plt.axis('off')   \n",
    "    \n",
    "    plt.subplot(224)\n",
    "    plt.imshow(img_test)\n",
    "    plt.title(\"%s\" % iou_value)\n",
    "    plt.axis('off')\n",
    "    \n",
    "\n",
    "    fig_name = '%s/%s_report.png' % ( report_img_path, name )\n",
    "    write_log('Saving... %s' % fig_name,report_root)\n",
    "    plt.savefig( fig_name )\n",
    "    plt.show()\n",
    "    \n",
    "    return iou_value, num_pixel_all, num_pixel_tp, num_pixel_fp, num_pixel_tn, num_pixel_fn"
   ]
  },
  {
   "cell_type": "code",
   "execution_count": null,
   "metadata": {},
   "outputs": [],
   "source": [
    "def check_paths( img_paths ):\n",
    "    num_img = len(img_paths)\n",
    "    for image in img_paths:\n",
    "        path_color = \"../testing_data/images/\" + type_folder + image[:-4] + \".png\"\n",
    "        path_gray = gray_dir_path + image[:-4] + \"_gray.png\"\n",
    "        \n",
    "        color_name = get_name_img_color(path_color)\n",
    "        gray_name = get_name_img_gray(path_gray)\n",
    "        if not color_name == gray_name:\n",
    "            raise Exception('%s not match %s' % ( color_name, gray_name))\n",
    "            return False\n",
    "    return True"
   ]
  },
  {
   "cell_type": "code",
   "execution_count": null,
   "metadata": {},
   "outputs": [],
   "source": [
    "def prepare_folder(result_path, report_root, report_img_path, img_predict_dir_path, img_blending_dir_path,img_test_dir_path):    \n",
    "    if not os.path.exists(result_path):\n",
    "        os.mkdir(result_path)\n",
    "    if not os.path.exists(report_root):\n",
    "        os.mkdir(report_root)\n",
    "    if not os.path.exists(report_img_path):\n",
    "        os.mkdir(report_img_path)\n",
    "    if not os.path.exists(img_predict_dir_path):\n",
    "        os.mkdir(img_predict_dir_path)\n",
    "    if not os.path.exists(img_blending_dir_path):\n",
    "        os.mkdir(img_blending_dir_path)\n",
    "    if not os.path.exists(img_test_dir_path):\n",
    "        os.mkdir(img_test_dir_path)"
   ]
  },
  {
   "cell_type": "code",
   "execution_count": null,
   "metadata": {},
   "outputs": [],
   "source": [
    "def write_log(line, report_root, mode='a'):\n",
    "    print(line)\n",
    "    with open('%s/log.txt' % report_root, mode) as file:\n",
    "        file.write( line + '\\n' )"
   ]
  },
  {
   "cell_type": "code",
   "execution_count": null,
   "metadata": {},
   "outputs": [],
   "source": [
    "def process2(result_path, report_root, report_img_path, img_predict_dir_path, img_blending_dir_path,img_test_dir_path, model, gray_dir_path):\n",
    "    prepare_folder(result_path, report_root, report_img_path, img_predict_dir_path, img_blending_dir_path,img_test_dir_path)\n",
    "    \n",
    "    s = datetime.now(timezone('Asia/Bangkok')).strftime('date: %Y-%m-%d ,time: %H:%M:%S')\n",
    "    write_log(\"START : %s\"%s, report_root,'w')\n",
    "\n",
    "    img_paths = get_image_file(color_dir_path)\n",
    "\n",
    "    if not check_paths( img_paths ):\n",
    "        raise Exception('List not match each other. Please check name of image.')\n",
    "\n",
    "#     num_test = len( img_paths )\n",
    "    iou_list = list()\n",
    "    \n",
    "    num_pixel_all = 0\n",
    "    num_pixel_tp = 0\n",
    "    num_pixel_fp = 0\n",
    "    num_pixel_tn = 0\n",
    "    num_pixel_fn = 0\n",
    "\n",
    "    for image in img_paths:\n",
    "        \n",
    "        color_path = color_dir_path + image\n",
    "        gray_path  = gray_dir_path + image[:-4] + \"_gray.png\"\n",
    "        iou_value, pixel_all, pixel_tp, pixel_fp, pixel_tn, pixel_fn = process(color_path, gray_path, report_root,model, img_predict_dir_path, img_blending_dir_path, img_test_dir_path, report_img_path, gray_dir_path)\n",
    "        iou_list.append(iou_value)\n",
    "        num_pixel_all += pixel_all \n",
    "        num_pixel_tp += pixel_tp\n",
    "        num_pixel_fp += pixel_fp\n",
    "        num_pixel_tn += pixel_tn\n",
    "        num_pixel_fn += pixel_fn\n",
    "    \n",
    "  \n",
    "    iou_sum = sum(iou_list)\n",
    "    iou_avg = iou_sum / len(iou_list)\n",
    "    iou_min = min(iou_list)\n",
    "    line = 'SEGMENTATION REPORT :: iou_avg %s, iou_min %s' % ( iou_avg, iou_min)\n",
    "\n",
    "    e = datetime.now(timezone('Asia/Bangkok')).strftime('date: %Y-%m-%d ,time: %H:%M:%S')\n",
    "\n",
    "    write_log(line, report_root)\n",
    "    write_log(e, report_root)\n",
    "    return num_pixel_all, num_pixel_tp, num_pixel_fp, num_pixel_tn, num_pixel_fn"
   ]
  },
  {
   "cell_type": "code",
   "execution_count": null,
   "metadata": {},
   "outputs": [],
   "source": [
    "def confusion_matrix(num_pixel_all, num_pixel_tp, num_pixel_fp, num_pixel_tn, num_pixel_fn) :\n",
    "    precision = num_pixel_tp/(num_pixel_tp + num_pixel_fp)*100\n",
    "    recall = num_pixel_tp/(num_pixel_tp + num_pixel_tn)*100\n",
    "    f_measure = (2*precision*recall) / (precision + recall)\n",
    "    accuracy = (num_pixel_tp + num_pixel_fn) / num_pixel_all\n",
    "    print(\"\\twound\\tnot wound\")\n",
    "    print(\"    wound\\t{:d}\\t{:d}\".format(num_pixel_tp, num_pixel_fp))\n",
    "    print(\"not wound\\t{:d}\\t{:d}\".format(num_pixel_tn, num_pixel_fn))\n",
    "    print(\"precision => {:.2f}\".format(precision))\n",
    "    print(\"recall => {:.2f}\".format(recall))\n",
    "    print(\"f-measure => {:.2f}\".format(f_measure))\n",
    "    print(\"accuracy => {:.2f}\".format(accuracy*100))\n",
    "    print(\"all sample => {:d}\".format(num_pixel_all))"
   ]
  },
  {
   "cell_type": "code",
   "execution_count": null,
   "metadata": {},
   "outputs": [],
   "source": [
    "def over_flitting_plot(src) :\n",
    "    training_errors = np.loadtxt(src + \"training_result.txt\")\n",
    "    test_errors = np.loadtxt(src + \"test_result.txt\")\n",
    "    \n",
    "    s_list = sorted({\"training\": training_errors, \"test\": test_errors}.items())\n",
    "    markers = itertools.cycle(('+', 'x', 'o'))\n",
    "\n",
    "    plt.title('{}'.format(\"accuracy\"))\n",
    "\n",
    "    for label, result in s_list:\n",
    "        plt.plot(result, marker=next(markers), label=label)\n",
    "        plt.ylabel('dice_coef')\n",
    "        plt.xlabel('epoch')\n",
    "        plt.legend(loc=3, bbox_to_anchor=(1, 0))\n",
    "\n",
    "    plt.show()"
   ]
  },
  {
   "cell_type": "code",
   "execution_count": null,
   "metadata": {
    "scrolled": false
   },
   "outputs": [],
   "source": [
    "def segmentation(root_path, model_name, color_dir_path, gray_dir_path):\n",
    "    \n",
    "#     over_flitting_plot(root_path + \"results/\" + model_name[:-6] + \"/\")\n",
    "    model_path = root_path + model_name\n",
    "\n",
    "    model_name = get_name_img_color(model_path)\n",
    "    result_path = root_path + 'results'\n",
    "    report_root = root_path + 'results/%s' % model_name\n",
    "    report_img_path = root_path + 'results/%s/reports' % model_name\n",
    "    img_predict_dir_path = root_path + 'results/%s/predict/' % model_name\n",
    "    img_blending_dir_path = root_path + 'results/%s/blending' % model_name\n",
    "    img_test_dir_path = root_path + 'results/%s/compare/' % model_name\n",
    "\n",
    "\n",
    "    if os.path.exists(color_dir_path):\n",
    "        print('Image Dir is %s' % color_dir_path)\n",
    "    else:\n",
    "        raise Exception('%s not found.' % color_dir_path)\n",
    "\n",
    "    if os.path.exists(model_path):\n",
    "        print('Model is %s' % model_path)\n",
    "    else:\n",
    "        raise Exception('%s not found.' % model_path)\n",
    "\n",
    "    model = load_model(model_path)\n",
    "    num_pixel_all, num_pixel_tp, num_pixel_fp, num_pixel_tn, num_pixel_fn = process2(result_path, report_root, report_img_path, img_predict_dir_path, img_blending_dir_path,img_test_dir_path, model, gray_dir_path)\n",
    "    confusion_matrix(num_pixel_all, num_pixel_tp, num_pixel_fp, num_pixel_tn, num_pixel_fn)"
   ]
  },
  {
   "cell_type": "code",
   "execution_count": null,
   "metadata": {},
   "outputs": [],
   "source": [
    "input_dim_model = (3, 256, 256)\n",
    "input_dim = 3 * 256 * 256\n",
    "num_output_classes = 256 * 256\n",
    "\n",
    "def create_reader_text(path, is_training, input_dim, num_label_classes):   \n",
    "\n",
    "    labelStream = cntk.io.StreamDef(field='label', shape=num_label_classes, is_sparse=False)\n",
    "    featureStream = cntk.io.StreamDef(field='features', shape=input_dim, is_sparse=False)\n",
    "#     coordinateStream = cntk.io.StreamDef(field='coordinate', shape=2, is_sparse=False)\n",
    "    \n",
    "#     deserailizer = cntk.io.CBFDeserializer(path, cntk.io.StreamDefs(label = labelStream ,feature = featureStream))\n",
    "    deserailizer = cntk.io.CTFDeserializer(path, cntk.io.StreamDefs(label = labelStream ,feature = featureStream))      \n",
    "    return cntk.io.MinibatchSource(deserailizer,\n",
    "       randomize = False, multithreaded_deserializer=False,max_sweeps = cntk.io.INFINITELY_REPEAT if is_training else 1)\n",
    "\n",
    "\n",
    "def create_reader_binary(path, is_training, input_dim, num_label_classes):   \n",
    "\n",
    "    labelStream = cntk.io.StreamDef(field='label', shape=num_label_classes, is_sparse=False)\n",
    "    featureStream = cntk.io.StreamDef(field='features', shape=input_dim, is_sparse=False)\n",
    "#     coordinateStream = cntk.io.StreamDef(field='coordinate', shape=2, is_sparse=False)\n",
    "    \n",
    "    deserailizer = cntk.io.CBFDeserializer(path, cntk.io.StreamDefs(label = labelStream ,feature = featureStream))\n",
    "#     deserailizer = cntk.io.CTFDeserializer(path, cntk.io.StreamDefs(label = labelStream ,feature = featureStream))      \n",
    "    return cntk.io.MinibatchSource(deserailizer,\n",
    "       randomize = False, multithreaded_deserializer=False,max_sweeps = cntk.io.INFINITELY_REPEAT if is_training else 1)\n",
    "\n",
    "def load_test(src_file) :\n",
    "        \n",
    "    return create_reader_text(src_file, False, input_dim, num_output_classes)\n",
    "\n",
    "def create_white_image():\n",
    "    img = np.zeros(shape = (256,256) ,dtype = np.uint8)\n",
    "    img.fill(255)\n",
    "    return img\n",
    "\n",
    "def predict_image(src_file, model, img_predict_dir_path) :\n",
    "    print(src_file)\n",
    "    \n",
    "    samples_train_size = len(open(src_file).readlines())\n",
    "    print(\"sample => \"samples_train_size)\n",
    "    reader_test = load_test(src_file)\n",
    "    \n",
    "    minibatch_size = 1\n",
    "    num_samples_per_sweep = samples_train_size\n",
    "    num_minibatches_to_train = (num_samples_per_sweep ) / minibatch_size\n",
    "    \n",
    "    input_map = {'label': reader_test.streams.label, 'input': reader_test.streams.feature} \n",
    "\n",
    "#     print(reader_test.streams.label)\n",
    "#     print(reader_test.streams.feature)\n",
    "\n",
    "\n",
    "    data_x, data_y = [], []\n",
    "    for i in range(0, int(num_minibatches_to_train)):\n",
    "\n",
    "        # Read a mini batch from the training data file\n",
    "        data = reader_test.next_minibatch(minibatch_size, input_map=input_map) \n",
    "\n",
    "        training_data = []\n",
    "        for k in data.keys() :\n",
    "            for v in data[k].as_sequences()[0] :\n",
    "                 training_data.append(v)\n",
    "\n",
    "        data_x.append(training_data[0])\n",
    "        data_y.append(training_data[1])\n",
    "\n",
    "\n",
    "\n",
    "    labels = np.reshape(data_x, (num_samples_per_sweep,1,256,256))\n",
    "    features = np.reshape(data_y,(num_samples_per_sweep,3,256,256))\n",
    "    \n",
    "    pred = prediction_image(features, model)\n",
    "    img = create_white_image()\n",
    "    rows, cols = pred[0][0].shape\n",
    "\n",
    "    for row in range(rows) :\n",
    "        for col in range(cols) :\n",
    "            if pred[0,0,row,col] > 0.5:\n",
    "                img[row,col] = 255\n",
    "            else :\n",
    "                img[row,col] = 0\n",
    "\n",
    "    cv2.imwrite('%s/%s_predict1.png' % ( img_predict_dir_path, get_name_img_color(src_file)), img )\n",
    "    \n",
    "    \n",
    "    return read_color_img('../testing_data/images/' + type_folder + get_name_img_color(src_file)+\".png\" ), img\n",
    "\n",
    "def prediction_image(features_image, model) :\n",
    "    return model.eval(features_image)\n",
    "\n",
    "    \n",
    "def create_white_image():\n",
    "    img = np.zeros(shape = (256,256) ,dtype = np.uint8)\n",
    "    img.fill(255)\n",
    "    return img\n",
    "\n",
    "def get_image_file(src_folder):\n",
    "    images = []\n",
    "    for (dirpath, dirnames, filenames) in walk(src_folder):\n",
    "        images.extend(filenames)\n",
    "        \n",
    "    return images\n",
    "\n",
    "def show_prediction_image(image):\n",
    "    print(image[0][0].shape)\n",
    "    \n",
    "    img = create_white_image()\n",
    "    rows, cols = image[0][0].shape\n",
    "\n",
    "    for row in range(rows) :\n",
    "        for col in range(cols) :\n",
    "            if image[0,0,row,col] >= 0.5:\n",
    "                img[row,col] = 255\n",
    "            else :\n",
    "                img[row,col] = 0\n",
    "                \n",
    "#     plt.imshow(img,'gray')\n",
    "#     plt.show()"
   ]
  },
  {
   "cell_type": "code",
   "execution_count": null,
   "metadata": {
    "scrolled": true
   },
   "outputs": [],
   "source": [
    "type_folder = \"original/\"\n",
    "\n",
    "root_path = '../training_data/model/' + type_folder\n",
    "color_dir_path = '../testing_data/features/' + type_folder\n",
    "gray_dir_path = '../testing_data/images/gray/'"
   ]
  },
  {
   "cell_type": "markdown",
   "metadata": {},
   "source": [
    "test original"
   ]
  },
  {
   "cell_type": "markdown",
   "metadata": {},
   "source": [
    "training 30 epoch"
   ]
  },
  {
   "cell_type": "code",
   "execution_count": null,
   "metadata": {},
   "outputs": [],
   "source": [
    "#k-fold => 1\n",
    "model_name = 'model40.83.model'\n",
    "segmentation(root_path, model_name, color_dir_path, gray_dir_path)"
   ]
  },
  {
   "cell_type": "code",
   "execution_count": null,
   "metadata": {},
   "outputs": [],
   "source": [
    "#k-fold => 2\n",
    "model_name = 'model35.93.model'\n",
    "segmentation(root_path, model_name, color_dir_path, gray_dir_path)"
   ]
  },
  {
   "cell_type": "code",
   "execution_count": null,
   "metadata": {},
   "outputs": [],
   "source": [
    "#k-fold => 3\n",
    "model_name = 'model36.73.model'\n",
    "segmentation(root_path, model_name, color_dir_path, gray_dir_path)"
   ]
  },
  {
   "cell_type": "code",
   "execution_count": null,
   "metadata": {},
   "outputs": [],
   "source": [
    "#k-fold => 4\n",
    "model_name = 'model41.58.model'\n",
    "segmentation(root_path, model_name, color_dir_path, gray_dir_path)"
   ]
  },
  {
   "cell_type": "code",
   "execution_count": null,
   "metadata": {},
   "outputs": [],
   "source": [
    "#k-fold => 5\n",
    "model_name = 'model35.26.model'\n",
    "segmentation(root_path, model_name, color_dir_path, gray_dir_path)"
   ]
  },
  {
   "cell_type": "markdown",
   "metadata": {},
   "source": [
    "training 100 epoch "
   ]
  },
  {
   "cell_type": "code",
   "execution_count": null,
   "metadata": {},
   "outputs": [],
   "source": [
    "#k-fold => 1\n",
    "model_name = 'model63.92.model'\n",
    "segmentation(root_path, model_name, color_dir_path, gray_dir_path)"
   ]
  },
  {
   "cell_type": "code",
   "execution_count": null,
   "metadata": {},
   "outputs": [],
   "source": [
    "#k-fold => 2\n",
    "model_name = 'model49.98.model'\n",
    "segmentation(root_path, model_name, color_dir_path, gray_dir_path)"
   ]
  },
  {
   "cell_type": "code",
   "execution_count": null,
   "metadata": {},
   "outputs": [],
   "source": [
    "#k-fold => 3\n",
    "model_name = 'model47.32.model'\n",
    "segmentation(root_path, model_name, color_dir_path, gray_dir_path)"
   ]
  },
  {
   "cell_type": "code",
   "execution_count": null,
   "metadata": {},
   "outputs": [],
   "source": [
    "#k-fold => 4\n",
    "model_name = 'model52.18.model'\n",
    "segmentation(root_path, model_name, color_dir_path, gray_dir_path)"
   ]
  },
  {
   "cell_type": "code",
   "execution_count": null,
   "metadata": {},
   "outputs": [],
   "source": [
    "#winner\n",
    "#k-fold => 5\n",
    "model_name = 'model47.25.model'\n",
    "segmentation(root_path, model_name, color_dir_path, gray_dir_path)"
   ]
  },
  {
   "cell_type": "markdown",
   "metadata": {},
   "source": [
    "training 200 epoch "
   ]
  },
  {
   "cell_type": "code",
   "execution_count": null,
   "metadata": {},
   "outputs": [],
   "source": [
    "#k-fold => 1\n",
    "model_name = 'model77.17.model'\n",
    "segmentation(root_path, model_name, color_dir_path, gray_dir_path)"
   ]
  },
  {
   "cell_type": "code",
   "execution_count": null,
   "metadata": {},
   "outputs": [],
   "source": [
    "#k-fold => 2\n",
    "model_name = 'model72.68.model'\n",
    "segmentation(root_path, model_name, color_dir_path, gray_dir_path)"
   ]
  },
  {
   "cell_type": "code",
   "execution_count": null,
   "metadata": {},
   "outputs": [],
   "source": [
    "#k-fold => 3\n",
    "model_name = 'model75.62.model'\n",
    "segmentation(root_path, model_name, color_dir_path, gray_dir_path)"
   ]
  },
  {
   "cell_type": "code",
   "execution_count": null,
   "metadata": {},
   "outputs": [],
   "source": [
    "#k-fold => 4\n",
    "model_name = 'model72.49.model'\n",
    "segmentation(root_path, model_name, color_dir_path, gray_dir_path)"
   ]
  },
  {
   "cell_type": "code",
   "execution_count": null,
   "metadata": {},
   "outputs": [],
   "source": [
    "#k-fold => 5\n",
    "model_name = 'model69.20.model'\n",
    "segmentation(root_path, model_name, color_dir_path, gray_dir_path)"
   ]
  },
  {
   "cell_type": "markdown",
   "metadata": {},
   "source": [
    "train 75 epoch"
   ]
  },
  {
   "cell_type": "code",
   "execution_count": null,
   "metadata": {},
   "outputs": [],
   "source": [
    "#k-fold => 1\n",
    "model_name = 'model65.78.model'\n",
    "segmentation(root_path, model_name, color_dir_path, gray_dir_path)"
   ]
  },
  {
   "cell_type": "code",
   "execution_count": null,
   "metadata": {},
   "outputs": [],
   "source": [
    "#k-fold => 2\n",
    "model_name = 'model66.88.model'\n",
    "segmentation(root_path, model_name, color_dir_path, gray_dir_path)"
   ]
  },
  {
   "cell_type": "code",
   "execution_count": null,
   "metadata": {},
   "outputs": [],
   "source": [
    "#k-fold => 3\n",
    "model_name = 'model64.01.model'\n",
    "segmentation(root_path, model_name, color_dir_path, gray_dir_path)"
   ]
  },
  {
   "cell_type": "code",
   "execution_count": null,
   "metadata": {},
   "outputs": [],
   "source": [
    "#k-fold => 4\n",
    "model_name = 'model67.26.model'\n",
    "segmentation(root_path, model_name, color_dir_path, gray_dir_path)"
   ]
  },
  {
   "cell_type": "code",
   "execution_count": null,
   "metadata": {},
   "outputs": [],
   "source": [
    "#k-fold => 5\n",
    "model_name = 'model63.80.model'\n",
    "segmentation(root_path, model_name, color_dir_path, gray_dir_path)"
   ]
  },
  {
   "cell_type": "code",
   "execution_count": null,
   "metadata": {},
   "outputs": [],
   "source": []
  },
  {
   "cell_type": "markdown",
   "metadata": {},
   "source": [
    "train 300 epoch"
   ]
  },
  {
   "cell_type": "code",
   "execution_count": null,
   "metadata": {},
   "outputs": [],
   "source": [
    "#k-fold => 1\n",
    "model_name = 'model29.45.model'\n",
    "segmentation(root_path, model_name, color_dir_path, gray_dir_path)"
   ]
  },
  {
   "cell_type": "code",
   "execution_count": null,
   "metadata": {},
   "outputs": [],
   "source": [
    "#k-fold => 2\n",
    "model_name = 'model76.22.model'\n",
    "segmentation(root_path, model_name, color_dir_path, gray_dir_path)"
   ]
  },
  {
   "cell_type": "code",
   "execution_count": null,
   "metadata": {},
   "outputs": [],
   "source": [
    "#k-fold => 3\n",
    "model_name = 'model77.32.model'\n",
    "segmentation(root_path, model_name, color_dir_path, gray_dir_path)"
   ]
  },
  {
   "cell_type": "code",
   "execution_count": null,
   "metadata": {},
   "outputs": [],
   "source": [
    "#k-fold => 4\n",
    "model_name = 'model71.08.model'\n",
    "segmentation(root_path, model_name, color_dir_path, gray_dir_path)"
   ]
  },
  {
   "cell_type": "code",
   "execution_count": null,
   "metadata": {},
   "outputs": [],
   "source": [
    "#k-fold => 5\n",
    "model_name = 'model67.25.model'\n",
    "segmentation(root_path, model_name, color_dir_path, gray_dir_path)"
   ]
  },
  {
   "cell_type": "markdown",
   "metadata": {},
   "source": [
    "train 500 epoch"
   ]
  },
  {
   "cell_type": "code",
   "execution_count": null,
   "metadata": {},
   "outputs": [],
   "source": [
    "#k-fold => 1\n",
    "model_name = 'model81.56.model'\n",
    "segmentation(root_path, model_name, color_dir_path, gray_dir_path)"
   ]
  },
  {
   "cell_type": "code",
   "execution_count": null,
   "metadata": {},
   "outputs": [],
   "source": [
    "#k-fold => 2\n",
    "model_name = 'model75.72.model'\n",
    "segmentation(root_path, model_name, color_dir_path, gray_dir_path)"
   ]
  },
  {
   "cell_type": "code",
   "execution_count": null,
   "metadata": {},
   "outputs": [],
   "source": [
    "#k-fold => 3\n",
    "model_name = 'model79.10.model'\n",
    "segmentation(root_path, model_name, color_dir_path, gray_dir_path)"
   ]
  },
  {
   "cell_type": "code",
   "execution_count": null,
   "metadata": {},
   "outputs": [],
   "source": [
    "#k-fold => 4\n",
    "model_name = 'model74.85.model'\n",
    "segmentation(root_path, model_name, color_dir_path, gray_dir_path)"
   ]
  },
  {
   "cell_type": "code",
   "execution_count": null,
   "metadata": {},
   "outputs": [],
   "source": [
    "#k-fold => 5\n",
    "model_name = 'model73.01.model'\n",
    "segmentation(root_path, model_name, color_dir_path, gray_dir_path)"
   ]
  },
  {
   "cell_type": "markdown",
   "metadata": {},
   "source": [
    "CNN resize to 64 x 64"
   ]
  },
  {
   "cell_type": "markdown",
   "metadata": {},
   "source": [
    "train 100 epochs"
   ]
  },
  {
   "cell_type": "code",
   "execution_count": null,
   "metadata": {},
   "outputs": [],
   "source": [
    "#k-fold => 1\n",
    "model_name = 'model65.17.model'\n",
    "segmentation(root_path, model_name, color_dir_path, gray_dir_path)"
   ]
  },
  {
   "cell_type": "code",
   "execution_count": null,
   "metadata": {},
   "outputs": [],
   "source": [
    "#k-fold => 2\n",
    "model_name = 'model65.84.model'\n",
    "segmentation(root_path, model_name, color_dir_path, gray_dir_path)"
   ]
  },
  {
   "cell_type": "code",
   "execution_count": null,
   "metadata": {},
   "outputs": [],
   "source": [
    "#k-fold => 3\n",
    "model_name = 'model68.46.model'\n",
    "segmentation(root_path, model_name, color_dir_path, gray_dir_path)"
   ]
  },
  {
   "cell_type": "code",
   "execution_count": null,
   "metadata": {},
   "outputs": [],
   "source": [
    "#k-fold => 4\n",
    "model_name = 'model63.42.model'\n",
    "segmentation(root_path, model_name, color_dir_path, gray_dir_path)"
   ]
  },
  {
   "cell_type": "code",
   "execution_count": null,
   "metadata": {},
   "outputs": [],
   "source": [
    "#k-fold => 5\n",
    "model_name = 'model64.31.model'\n",
    "segmentation(root_path, model_name, color_dir_path, gray_dir_path)"
   ]
  },
  {
   "cell_type": "markdown",
   "metadata": {},
   "source": [
    "test original augment"
   ]
  },
  {
   "cell_type": "code",
   "execution_count": null,
   "metadata": {},
   "outputs": [],
   "source": [
    "type_folder = \"original_augment/\"\n",
    "\n",
    "root_path = '../training_data/model/original/' \n",
    "color_dir_path = '../testing_data/features/' + type_folder\n",
    "gray_dir_path = '../testing_data/images/gray/'"
   ]
  },
  {
   "cell_type": "markdown",
   "metadata": {},
   "source": [
    "train 100 epoch"
   ]
  },
  {
   "cell_type": "code",
   "execution_count": null,
   "metadata": {},
   "outputs": [],
   "source": [
    "#k-fold => 1\n",
    "model_name = 'model69.40.model'\n",
    "segmentation(root_path, model_name, color_dir_path, gray_dir_path)"
   ]
  },
  {
   "cell_type": "code",
   "execution_count": null,
   "metadata": {},
   "outputs": [],
   "source": [
    "#k-fold => 2\n",
    "model_name = 'model69.15.model'\n",
    "segmentation(root_path, model_name, color_dir_path, gray_dir_path)"
   ]
  },
  {
   "cell_type": "code",
   "execution_count": null,
   "metadata": {},
   "outputs": [],
   "source": [
    "#k-fold => 3\n",
    "model_name = 'model71.23.model'\n",
    "segmentation(root_path, model_name, color_dir_path, gray_dir_path)"
   ]
  },
  {
   "cell_type": "code",
   "execution_count": null,
   "metadata": {},
   "outputs": [],
   "source": [
    "#k-fold => 4\n",
    "model_name = 'model66.72.model'\n",
    "segmentation(root_path, model_name, color_dir_path, gray_dir_path)"
   ]
  },
  {
   "cell_type": "code",
   "execution_count": null,
   "metadata": {},
   "outputs": [],
   "source": [
    "#k-fold => 5\n",
    "model_name = 'model67.08.model'\n",
    "segmentation(root_path, model_name, color_dir_path, gray_dir_path)"
   ]
  },
  {
   "cell_type": "markdown",
   "metadata": {},
   "source": [
    "train 200 epoch"
   ]
  },
  {
   "cell_type": "code",
   "execution_count": null,
   "metadata": {},
   "outputs": [],
   "source": [
    "#k-fold => 1\n",
    "model_name = 'model74.89.model'\n",
    "segmentation(root_path, model_name, color_dir_path, gray_dir_path)"
   ]
  },
  {
   "cell_type": "code",
   "execution_count": null,
   "metadata": {},
   "outputs": [],
   "source": [
    "#k-fold => 2\n",
    "model_name = 'model74.42.model'\n",
    "segmentation(root_path, model_name, color_dir_path, gray_dir_path)"
   ]
  },
  {
   "cell_type": "code",
   "execution_count": null,
   "metadata": {},
   "outputs": [],
   "source": [
    "#k-fold => 3\n",
    "model_name = 'model76.94.model'\n",
    "segmentation(root_path, model_name, color_dir_path, gray_dir_path)"
   ]
  },
  {
   "cell_type": "code",
   "execution_count": null,
   "metadata": {},
   "outputs": [],
   "source": [
    "#k-fold => 4\n",
    "model_name = 'model71.50.model'\n",
    "segmentation(root_path, model_name, color_dir_path, gray_dir_path)"
   ]
  },
  {
   "cell_type": "code",
   "execution_count": null,
   "metadata": {},
   "outputs": [],
   "source": [
    "#k-fold => 5\n",
    "model_name = 'model72.37.model'\n",
    "segmentation(root_path, model_name, color_dir_path, gray_dir_path)"
   ]
  },
  {
   "cell_type": "markdown",
   "metadata": {},
   "source": [
    "train 300 epoch"
   ]
  },
  {
   "cell_type": "code",
   "execution_count": null,
   "metadata": {},
   "outputs": [],
   "source": [
    "#k-fold => 1\n",
    "model_name = 'model75.12.model'\n",
    "segmentation(root_path, model_name, color_dir_path, gray_dir_path)"
   ]
  },
  {
   "cell_type": "code",
   "execution_count": null,
   "metadata": {},
   "outputs": [],
   "source": [
    "#k-fold => 2\n",
    "model_name = 'model76.60.model'\n",
    "segmentation(root_path, model_name, color_dir_path, gray_dir_path)"
   ]
  },
  {
   "cell_type": "code",
   "execution_count": null,
   "metadata": {},
   "outputs": [],
   "source": [
    "#k-fold => 3\n",
    "model_name = 'model79.53.model'\n",
    "segmentation(root_path, model_name, color_dir_path, gray_dir_path)"
   ]
  },
  {
   "cell_type": "code",
   "execution_count": null,
   "metadata": {},
   "outputs": [],
   "source": [
    "#k-fold => 4\n",
    "model_name = 'model74.17.model'\n",
    "segmentation(root_path, model_name, color_dir_path, gray_dir_path)"
   ]
  },
  {
   "cell_type": "code",
   "execution_count": null,
   "metadata": {},
   "outputs": [],
   "source": [
    "#k-fold => 5\n",
    "model_name = 'model75.00.model'\n",
    "segmentation(root_path, model_name, color_dir_path, gray_dir_path)"
   ]
  },
  {
   "cell_type": "markdown",
   "metadata": {},
   "source": [
    "train 500 epoch"
   ]
  },
  {
   "cell_type": "code",
   "execution_count": null,
   "metadata": {},
   "outputs": [],
   "source": [
    "#k-fold => 1\n",
    "model_name = 'model80.81.model'\n",
    "segmentation(root_path, model_name, color_dir_path, gray_dir_path)"
   ]
  },
  {
   "cell_type": "code",
   "execution_count": null,
   "metadata": {},
   "outputs": [],
   "source": [
    "#k-fold => 2\n",
    "model_name = 'model78.93.model'\n",
    "segmentation(root_path, model_name, color_dir_path, gray_dir_path)"
   ]
  },
  {
   "cell_type": "code",
   "execution_count": null,
   "metadata": {},
   "outputs": [],
   "source": [
    "#k-fold => 3\n",
    "model_name = 'model81.72.model'\n",
    "segmentation(root_path, model_name, color_dir_path, gray_dir_path)"
   ]
  },
  {
   "cell_type": "code",
   "execution_count": null,
   "metadata": {},
   "outputs": [],
   "source": [
    "#k-fold => 4\n",
    "model_name = 'model76.54.model'\n",
    "segmentation(root_path, model_name, color_dir_path, gray_dir_path)"
   ]
  },
  {
   "cell_type": "code",
   "execution_count": null,
   "metadata": {},
   "outputs": [],
   "source": [
    "#k-fold => 5\n",
    "model_name = 'model76.54.model'\n",
    "segmentation(root_path, model_name, color_dir_path, gray_dir_path)"
   ]
  },
  {
   "cell_type": "code",
   "execution_count": null,
   "metadata": {},
   "outputs": [],
   "source": []
  },
  {
   "cell_type": "markdown",
   "metadata": {},
   "source": [
    "original cnn resize to 64 x 64"
   ]
  },
  {
   "cell_type": "code",
   "execution_count": null,
   "metadata": {},
   "outputs": [],
   "source": [
    "#k-fold => 5\n",
    "model_name = 'model65.17.model'\n",
    "segmentation(root_path, model_name, color_dir_path, gray_dir_path)"
   ]
  },
  {
   "cell_type": "code",
   "execution_count": null,
   "metadata": {},
   "outputs": [],
   "source": []
  },
  {
   "cell_type": "code",
   "execution_count": null,
   "metadata": {},
   "outputs": [],
   "source": []
  },
  {
   "cell_type": "code",
   "execution_count": null,
   "metadata": {},
   "outputs": [],
   "source": []
  },
  {
   "cell_type": "code",
   "execution_count": null,
   "metadata": {},
   "outputs": [],
   "source": [
    "a = [1, 2, 3, 4, 5, 6, 7, 8, 9, 10]\n",
    "cv = cross_validation.KFold(len(a), n_folds=5, shuffle=False, random_state=None, )"
   ]
  },
  {
   "cell_type": "code",
   "execution_count": null,
   "metadata": {},
   "outputs": [],
   "source": [
    "for train, test in cv :\n",
    "    print([a[index] for index in train])\n",
    "    print([a[index] for index in test])"
   ]
  },
  {
   "cell_type": "code",
   "execution_count": null,
   "metadata": {},
   "outputs": [],
   "source": [
    "a = [1, 2, 3, 4, 5, 6, 7, 8, 9, 10]\n",
    "t = int(len(a) * 0.1)\n",
    "\n",
    "\n",
    "aa = np.random.permutation(a)"
   ]
  },
  {
   "cell_type": "code",
   "execution_count": null,
   "metadata": {},
   "outputs": [],
   "source": [
    "test_indices = aa[:t]\n",
    "training_indices = aa[t:]"
   ]
  },
  {
   "cell_type": "code",
   "execution_count": null,
   "metadata": {},
   "outputs": [],
   "source": [
    "print(aa[t:])\n",
    "print(aa[:t])\n",
    "print(os.system('clc'))\n"
   ]
  },
  {
   "cell_type": "code",
   "execution_count": null,
   "metadata": {},
   "outputs": [],
   "source": [
    "print(test_indices)\n",
    "print(training_indices)"
   ]
  },
  {
   "cell_type": "code",
   "execution_count": null,
   "metadata": {},
   "outputs": [],
   "source": []
  },
  {
   "cell_type": "code",
   "execution_count": null,
   "metadata": {},
   "outputs": [],
   "source": [
    "aa\n"
   ]
  },
  {
   "cell_type": "code",
   "execution_count": null,
   "metadata": {},
   "outputs": [],
   "source": [
    "cv = cross_validation.KFold(180, n_folds=5, shuffle=False, random_state=None, )"
   ]
  },
  {
   "cell_type": "code",
   "execution_count": null,
   "metadata": {},
   "outputs": [],
   "source": [
    "for train, test in cv :\n",
    "    print(train)\n",
    "    print(test)"
   ]
  },
  {
   "cell_type": "code",
   "execution_count": null,
   "metadata": {},
   "outputs": [],
   "source": [
    "a = [1, 2, 3, 4, 5, 6, 7, 8, 9, 10]\n",
    "b = [1, 2, 3, 4, 5, 6, 7, 8, 9, 10]"
   ]
  },
  {
   "cell_type": "code",
   "execution_count": null,
   "metadata": {},
   "outputs": [],
   "source": [
    "for number in (a+b):\n",
    "    print(numbet)"
   ]
  },
  {
   "cell_type": "code",
   "execution_count": null,
   "metadata": {},
   "outputs": [],
   "source": []
  }
 ],
 "metadata": {
  "kernelspec": {
   "display_name": "Python 3",
   "language": "python",
   "name": "python3"
  },
  "language_info": {
   "codemirror_mode": {
    "name": "ipython",
    "version": 3
   },
   "file_extension": ".py",
   "mimetype": "text/x-python",
   "name": "python",
   "nbconvert_exporter": "python",
   "pygments_lexer": "ipython3",
   "version": "3.6.5"
  }
 },
 "nbformat": 4,
 "nbformat_minor": 2
}
