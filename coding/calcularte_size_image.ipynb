{
 "cells": [
  {
   "cell_type": "code",
   "execution_count": 1,
   "metadata": {},
   "outputs": [],
   "source": [
    "import os\n",
    "from os import walk\n",
    "import numpy as np\n",
    "import cv2\n",
    "import statistics"
   ]
  },
  {
   "cell_type": "code",
   "execution_count": 57,
   "metadata": {},
   "outputs": [
    {
     "name": "stdout",
     "output_type": "stream",
     "text": [
      "number of file => 27\n"
     ]
    }
   ],
   "source": [
    "src = \"../../image_color/\"\n",
    "files = []\n",
    "for (dirpath, dirnames, filename) in walk(src):\n",
    "    files.extend(filename)\n",
    "num_files = len(files) \n",
    "print(\"number of file => \" + str(num_files))"
   ]
  },
  {
   "cell_type": "code",
   "execution_count": 58,
   "metadata": {},
   "outputs": [
    {
     "name": "stdout",
     "output_type": "stream",
     "text": [
      "v1_32.png\n",
      "m_03.jpg\n",
      "b_20.png\n",
      "v1_84.png\n",
      "v2_07.jpg\n",
      "f_50.png\n",
      "a_04.png\n",
      "b_12.png\n",
      "v1_76.png\n",
      "b_05.png\n",
      "f_18.png\n",
      "p1_72.png\n",
      "p1_81.png\n",
      "p1_73.png\n",
      "t_25.png\n",
      "f_35.png\n",
      "m_47.png\n",
      "a_05.png\n",
      "p1_82.png\n",
      "p2_54.png\n",
      "b_11.png\n",
      "m_43.png\n",
      "p2_57.png\n",
      "v1_70.png\n",
      "f_41.png\n",
      "m_25.png\n",
      "p1_67.png\n"
     ]
    }
   ],
   "source": [
    "shapes = []\n",
    "def get_image_RGB(name):\n",
    "    img_rgb = cv2.imread(name)\n",
    "    b, g, r = cv2.split(img_rgb)\n",
    "    return cv2.merge([r, g, b])\n",
    "\n",
    "for file in files:\n",
    "    file_img = src + file\n",
    "    print(file)\n",
    "    img = get_image_RGB(file_img)\n",
    "    shapes.append((img.shape[0], img.shape[1]))"
   ]
  },
  {
   "cell_type": "code",
   "execution_count": 59,
   "metadata": {},
   "outputs": [],
   "source": [
    "heights, widths = [], []\n",
    "\n",
    "for (height, width) in shapes :\n",
    "    heights.append(height)\n",
    "    widths.append(width)\n",
    "# print(heights)\n",
    "# print(widths)"
   ]
  },
  {
   "cell_type": "code",
   "execution_count": 60,
   "metadata": {},
   "outputs": [],
   "source": [
    "def average(list):\n",
    "    return sum(list)/len(list)\n",
    "def stdev(list):\n",
    "    return statistics.stdev(list)\n",
    "def median(list):\n",
    "    return statistics.median(list)"
   ]
  },
  {
   "cell_type": "code",
   "execution_count": 61,
   "metadata": {},
   "outputs": [],
   "source": [
    "def printInfo(list):\n",
    "    return \"max => {:d}, min => {:d}, average => {:.2f}, sd => {:.2f}, median => {:.2f}\".format(max(list), min(list), average(list), stdev(list), median(list))\n"
   ]
  },
  {
   "cell_type": "code",
   "execution_count": 62,
   "metadata": {},
   "outputs": [
    {
     "name": "stdout",
     "output_type": "stream",
     "text": [
      "height : max => 560, min => 191, average => 397.48, sd => 57.15, median => 400.00\n",
      "width : max => 560, min => 220, average => 541.11, sd => 71.08, median => 560.00\n"
     ]
    }
   ],
   "source": [
    "print(\"height : \" + str(printInfo(heights)))\n",
    "print(\"width : \" + str(printInfo(widths)))"
   ]
  },
  {
   "cell_type": "code",
   "execution_count": null,
   "metadata": {},
   "outputs": [],
   "source": []
  },
  {
   "cell_type": "code",
   "execution_count": null,
   "metadata": {},
   "outputs": [],
   "source": []
  }
 ],
 "metadata": {
  "kernelspec": {
   "display_name": "Python 3",
   "language": "python",
   "name": "python3"
  },
  "language_info": {
   "codemirror_mode": {
    "name": "ipython",
    "version": 3
   },
   "file_extension": ".py",
   "mimetype": "text/x-python",
   "name": "python",
   "nbconvert_exporter": "python",
   "pygments_lexer": "ipython3",
   "version": "3.6.5"
  }
 },
 "nbformat": 4,
 "nbformat_minor": 2
}
